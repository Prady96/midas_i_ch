{
 "cells": [
  {
   "cell_type": "code",
   "execution_count": 9,
   "metadata": {},
   "outputs": [],
   "source": [
    "# for cursor/Pages & API for tweets\n",
    "from tweepy import API\n",
    "from tweepy import Cursor\n",
    "\n",
    "from tweepy.streaming import StreamListener\n",
    "from tweepy import OAuthHandler\n",
    "from tweepy import Stream\n",
    "\n",
    "import pandas as pd\n",
    "import numpy as np"
   ]
  },
  {
   "cell_type": "markdown",
   "metadata": {},
   "source": [
    "##### Copy your Credentials for twitter API \" http://apps.twitter.com \""
   ]
  },
  {
   "cell_type": "code",
   "execution_count": 10,
   "metadata": {},
   "outputs": [],
   "source": [
    "# Credentials\n",
    "ACCESS_TOKEN = \"921699665757605890-pDKw1tdxf629OBR0Sc1Dku00OwKVAxu\"\n",
    "ACCESS_TOKEN_SECRET = \"XQFgw5o8khek3vUa0AegHAR80sd2bjGGAY5baAUUKvbqd\"\n",
    "CONSUMER_KEY = \"Z4Th1Nh7RAU81i05EgugZFWPJ\"\n",
    "CONSUMER_SECRET = \"ed2dDBilYQI5jrG9dUWp7h6lLYbHsrYGyvWwutF1VMR3E1GB2v\""
   ]
  },
  {
   "cell_type": "markdown",
   "metadata": {},
   "source": [
    "#### Generating Twitter Client using tweepy Lib\n",
    "• twitter_user=None by default you may change the user if you want"
   ]
  },
  {
   "cell_type": "code",
   "execution_count": 15,
   "metadata": {},
   "outputs": [],
   "source": [
    "class TwitterClient():\n",
    "    \"\"\"\n",
    "    Fuctioning For Generating twitter client After authentication\n",
    "    \"\"\"\n",
    "    def __init__(self, twitter_user=None):\n",
    "        self.auth = TwitterAuthenticator().authenticate_twitter_app()\n",
    "        self.twitter_client = API(self.auth)\n",
    "        self.twitter_user = twitter_user\n",
    "\n",
    "    def get_twitter_client_api(self):\n",
    "        return self.twitter_client\n"
   ]
  },
  {
   "cell_type": "code",
   "execution_count": 19,
   "metadata": {},
   "outputs": [],
   "source": [
    "class TwitterAuthenticator():\n",
    "    \"\"\"\n",
    "    Fuctioning for Authentication of API Consumer & Access Key\n",
    "    \"\"\"\n",
    "    def authenticate_twitter_app(self):\n",
    "        auth = OAuthHandler(CONSUMER_KEY, CONSUMER_SECRET)\n",
    "        auth.set_access_token(ACCESS_TOKEN, ACCESS_TOKEN_SECRET)\n",
    "        return auth"
   ]
  },
  {
   "cell_type": "code",
   "execution_count": 17,
   "metadata": {},
   "outputs": [],
   "source": [
    "class TweetAnalyser():\n",
    "    \"\"\"\n",
    "    Fuctioning for analysing and categorising content for tweets\n",
    "    \"\"\"\n",
    "    def __init__(self):\n",
    "        self.count = 0\n",
    "\n",
    "    def tweets_to_date_frame(self, tweets):\n",
    "        df = pd.DataFrame(data=[tweet.text for tweet in tweets], columns=['Tweets'])\n",
    "        df['Date & Time'] = np.array([tweet.created_at for tweet in tweets])\n",
    "        df['favorite_count'] = np.array([tweet.favorite_count for tweet in tweets])\n",
    "        df['retweet_count'] = np.array([tweet.retweet_count for tweet in tweets])\n",
    "        # df['images']\n",
    "\n",
    "        try:\n",
    "            if 'media' in tweets.entities:\n",
    "                for image in tweets.entities['media']:\n",
    "                    self.count = self.count + 1\n",
    "        except:\n",
    "            self.count == None\n",
    "\n",
    "        df['image_count'] = np.array(self.count)\n",
    "\n",
    "        return df"
   ]
  },
  {
   "cell_type": "markdown",
   "metadata": {},
   "source": [
    "##### Here we have taken screen_name = AamAadmiParty\n",
    "    • Please change and check for different screen names,\n",
    "    • Here count is taken as 10"
   ]
  },
  {
   "cell_type": "code",
   "execution_count": 18,
   "metadata": {},
   "outputs": [
    {
     "name": "stdout",
     "output_type": "stream",
     "text": [
      "                                              Tweets         Date & Time  \\\n",
      "0  RT @msisodia: Jobs can't be created until we c... 2019-03-26 06:37:03   \n",
      "1  भाजपा की धर्म-जात-प्रांत की घटिया राजनीति पर ह... 2019-03-26 05:23:23   \n",
      "2  'The voice of Delhi has to reach Parliament' -... 2019-03-26 04:31:45   \n",
      "3  जुमलों से बचे। \\n\\n#LoksabhaElections2019 http... 2019-03-26 04:28:06   \n",
      "4  What will change if Delhi gets full statehood?... 2019-03-26 02:00:00   \n",
      "5  \"10 साल के अंदर दिल्ली के हर एक परिवार को मकान... 2019-03-25 17:03:47   \n",
      "6  \"इस लोकसभा चुनाव में दिल्ली सिर्फ एक चीज़ के ल... 2019-03-25 14:25:32   \n",
      "7  National Convenor and Delhi CM @ArvindKejriwal... 2019-03-25 14:01:47   \n",
      "8  RT @AAPDelhi: दिल्ली पुलिस के भरोसे, दिल्ली मे... 2019-03-25 13:36:14   \n",
      "9  RT @thebharatpur: I spend most of my time in D... 2019-03-25 08:47:55   \n",
      "\n",
      "   favorite_count  retweet_count  image_count  \n",
      "0               0            192            0  \n",
      "1             239             87            0  \n",
      "2             279             84            0  \n",
      "3             322            109            0  \n",
      "4             348            181            0  \n",
      "5            2420            703            0  \n",
      "6             495            159            0  \n",
      "7             351            140            0  \n",
      "8               0            272            0  \n",
      "9               0            360            0  \n"
     ]
    }
   ],
   "source": [
    "if __name__ == \"__main__\":\n",
    "\n",
    "    twitter_client = TwitterClient()\n",
    "    tweet_analyser = TweetAnalyser()\n",
    "    api = twitter_client.get_twitter_client_api()\n",
    "\n",
    "    tweets = api.user_timeline(screen_name=\"AamAadmiParty\", count=10)\n",
    "\n",
    "    df = tweet_analyser.tweets_to_date_frame(tweets)\n",
    "    print(df.head(10))"
   ]
  },
  {
   "cell_type": "code",
   "execution_count": null,
   "metadata": {},
   "outputs": [],
   "source": []
  },
  {
   "cell_type": "code",
   "execution_count": null,
   "metadata": {},
   "outputs": [],
   "source": []
  },
  {
   "cell_type": "code",
   "execution_count": null,
   "metadata": {},
   "outputs": [],
   "source": []
  },
  {
   "cell_type": "code",
   "execution_count": null,
   "metadata": {},
   "outputs": [],
   "source": []
  },
  {
   "cell_type": "code",
   "execution_count": null,
   "metadata": {},
   "outputs": [],
   "source": []
  },
  {
   "cell_type": "code",
   "execution_count": null,
   "metadata": {},
   "outputs": [],
   "source": []
  },
  {
   "cell_type": "code",
   "execution_count": null,
   "metadata": {},
   "outputs": [],
   "source": []
  },
  {
   "cell_type": "code",
   "execution_count": null,
   "metadata": {},
   "outputs": [],
   "source": []
  },
  {
   "cell_type": "code",
   "execution_count": null,
   "metadata": {},
   "outputs": [],
   "source": []
  },
  {
   "cell_type": "code",
   "execution_count": null,
   "metadata": {},
   "outputs": [],
   "source": []
  },
  {
   "cell_type": "code",
   "execution_count": null,
   "metadata": {},
   "outputs": [],
   "source": []
  }
 ],
 "metadata": {
  "kernelspec": {
   "display_name": "Python 3",
   "language": "python",
   "name": "python3"
  },
  "language_info": {
   "codemirror_mode": {
    "name": "ipython",
    "version": 3
   },
   "file_extension": ".py",
   "mimetype": "text/x-python",
   "name": "python",
   "nbconvert_exporter": "python",
   "pygments_lexer": "ipython3",
   "version": "3.6.5"
  }
 },
 "nbformat": 4,
 "nbformat_minor": 2
}
